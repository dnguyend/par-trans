{
  "nbformat": 4,
  "nbformat_minor": 0,
  "metadata": {
    "colab": {
      "provenance": [],
      "authorship_tag": "ABX9TyPzOeYZsZFZBN94wAxy63+w",
      "include_colab_link": true
    },
    "kernelspec": {
      "name": "python3",
      "display_name": "Python 3"
    },
    "language_info": {
      "name": "python"
    }
  },
  "cells": [
    {
      "cell_type": "markdown",
      "metadata": {
        "id": "view-in-github",
        "colab_type": "text"
      },
      "source": [
        "<a href=\"https://colab.research.google.com/github/dnguyend/par-trans/blob/main/examples/NumpySO.ipynb\" target=\"_parent\"><img src=\"https://colab.research.google.com/assets/colab-badge.svg\" alt=\"Open In Colab\"/></a>"
      ]
    },
    {
      "cell_type": "markdown",
      "source": [
        "# Workbook to test SO parallel transport with a deformed metric using numpy.\n",
        "\n",
        "This should be run under CPU run time.\n"
      ],
      "metadata": {
        "id": "BBYxJwxhVyp4"
      }
    },
    {
      "cell_type": "code",
      "execution_count": 1,
      "metadata": {
        "colab": {
          "base_uri": "https://localhost:8080/"
        },
        "id": "uJ_h-u15Vr0c",
        "outputId": "0a2cf0c2-e9c8-499c-bd41-17c52ae6095b"
      },
      "outputs": [
        {
          "output_type": "stream",
          "name": "stdout",
          "text": [
            "Collecting git+https://github.com/dnguyend/par-trans\n",
            "  Cloning https://github.com/dnguyend/par-trans to /tmp/pip-req-build-tej5jj8f\n",
            "  Running command git clone --filter=blob:none --quiet https://github.com/dnguyend/par-trans /tmp/pip-req-build-tej5jj8f\n",
            "  Resolved https://github.com/dnguyend/par-trans to commit 8a7b9ef3c88d929d40c9a9f990cf257132243f46\n",
            "  Installing build dependencies ... \u001b[?25l\u001b[?25hdone\n",
            "  Getting requirements to build wheel ... \u001b[?25l\u001b[?25hdone\n",
            "  Preparing metadata (pyproject.toml) ... \u001b[?25l\u001b[?25hdone\n",
            "Requirement already satisfied: jax in /usr/local/lib/python3.10/dist-packages (from par-trans==0.1.dev17+g8a7b9ef) (0.4.26)\n",
            "Requirement already satisfied: jaxlib in /usr/local/lib/python3.10/dist-packages (from par-trans==0.1.dev17+g8a7b9ef) (0.4.26+cuda12.cudnn89)\n",
            "Requirement already satisfied: numpy in /usr/local/lib/python3.10/dist-packages (from par-trans==0.1.dev17+g8a7b9ef) (1.26.4)\n",
            "Requirement already satisfied: scipy in /usr/local/lib/python3.10/dist-packages (from par-trans==0.1.dev17+g8a7b9ef) (1.13.1)\n",
            "Requirement already satisfied: ml-dtypes>=0.2.0 in /usr/local/lib/python3.10/dist-packages (from jax->par-trans==0.1.dev17+g8a7b9ef) (0.4.0)\n",
            "Requirement already satisfied: opt-einsum in /usr/local/lib/python3.10/dist-packages (from jax->par-trans==0.1.dev17+g8a7b9ef) (3.3.0)\n",
            "Building wheels for collected packages: par-trans\n",
            "  Building wheel for par-trans (pyproject.toml) ... \u001b[?25l\u001b[?25hdone\n",
            "  Created wheel for par-trans: filename=par_trans-0.1.dev17+g8a7b9ef-py3-none-any.whl size=32089 sha256=bf9f9de2604baf2372bf119750bd40ce4aead2d16caefa859ac57f28924ee41d\n",
            "  Stored in directory: /tmp/pip-ephem-wheel-cache-t48goqnb/wheels/43/54/27/33e127e64ed29c538e4b5356c5a5801c527ecfa659afe8ec3c\n",
            "Successfully built par-trans\n",
            "Installing collected packages: par-trans\n",
            "Successfully installed par-trans-0.1.dev17+g8a7b9ef\n"
          ]
        }
      ],
      "source": [
        "!pip install git+https://github.com/dnguyend/par-trans"
      ]
    },
    {
      "cell_type": "markdown",
      "source": [
        "Import the libraries"
      ],
      "metadata": {
        "id": "-bLx0XKpWCNH"
      }
    },
    {
      "cell_type": "code",
      "source": [
        "import numpy as np\n",
        "import numpy.linalg as la\n",
        "from numpy.random import randn\n",
        "\n",
        "from par_trans.manifolds import SOAlpha\n",
        "from par_trans.utils.utils import (sym, asym, lie, cz)\n",
        "\n",
        "from scipy.linalg import expm\n",
        "from scipy.sparse.linalg import expm_multiply, LinearOperator\n"
      ],
      "metadata": {
        "id": "5dm_3BkJV-vn"
      },
      "execution_count": 4,
      "outputs": []
    },
    {
      "cell_type": "markdown",
      "source": [
        "Run several tests:\n",
        "* check the metric compatible condition of the Levi-Civita connection. For 2 tangent vectors $v, va$, $X: z\\mapsto soa.proj(z, va)$ is a vector field. We compare $D_v\\langle X, X\\rangle$ and $2\\langle X, D_vX + \\Gamma(v, X)\\rangle$\n",
        "* Check Geodesic and transport equations.\n",
        "* The function soa.exp gives the Riemannian exponential map, while $soa.dexp(x, v, t,ddexp=True) $ computes $\\gamma(t), \\dot{\\gamma}(t)$ and $\\ddot{\\gamma}(t)$ where $\\gamma(t)$ is the geodesic starting at $x$ with initial velocity $\\dot{\\gamma}(0) = v$. If $ddexp=False$, only $\\gamma$ and $\\dot{\\gamma}$ are returned.\n",
        "\n",
        "We verify dexp indeed returns the time derivatives, and show the parallel transport equation is satisfied.\n"
      ],
      "metadata": {
        "id": "_u35q4rvWQrO"
      }
    },
    {
      "cell_type": "code",
      "source": [
        "\n",
        "def test():\n",
        "    n = 5\n",
        "    k = 3\n",
        "    alp = .6\n",
        "    soa = SOAlpha(n, k, alp)\n",
        "\n",
        "    x = soa.rand_point()\n",
        "    v = soa.rand_vec(x)\n",
        "    va = soa.rand_vec(x)\n",
        "    c = soa.rand_vec(np.eye(n))\n",
        "\n",
        "    dlt = 1e-6\n",
        "    t = .8\n",
        "\n",
        "    print(\"Check Christoffel gamma produces a metric compatible connection\")\n",
        "    print((soa.inner(x+dlt*v, soa.proj(x+dlt*v, va), soa.proj(x+dlt*v, va)) - soa.inner(x, va, va))/dlt)\n",
        "    print(2*soa.inner(x, va, soa.christoffel_gamma(x, v, va)))\n",
        "\n",
        "    print(\"Check time derivatives of geodesics\")\n",
        "    print(np.allclose((soa.exp(x, (t+dlt)*v) - soa.exp(x, t*v))/dlt,\n",
        "                      soa.dexp(x, v, t, ddexp=False)[1], atol=1e-3\n",
        "                      ))\n",
        "\n",
        "    print(np.allclose((soa.dexp(x, v, t+dlt)[1] - soa.dexp(x, v, t)[1])/dlt,\n",
        "                      soa.dexp(x, v, t, ddexp=True)[2], atol=1e-2\n",
        "                      ))\n",
        "\n",
        "    gmms = soa.dexp(x, v, t, ddexp=True)\n",
        "\n",
        "    print(\"CHECK Geodesic Equation with analytic differentiation\")\n",
        "    print(gmms[2] + soa.christoffel_gamma(gmms[0], gmms[1], gmms[1]))\n",
        "\n",
        "    Delta = soa.parallel(x, v, va, t)\n",
        "\n",
        "    print(\"CHECK TRANSPORT EQUATION with numerical differentiation\")\n",
        "    print((soa.parallel(x, v, va, t+dlt) - Delta)/dlt \\\n",
        "          + soa.christoffel_gamma(gmms[0], gmms[1], Delta))\n",
        "test()"
      ],
      "metadata": {
        "colab": {
          "base_uri": "https://localhost:8080/"
        },
        "id": "ddUvvCAQWyrv",
        "outputId": "3e3ca03c-fbb9-4a0c-af06-d6c4ef6db9fe"
      },
      "execution_count": 5,
      "outputs": [
        {
          "output_type": "stream",
          "name": "stdout",
          "text": [
            "Check Christoffel gamma produces a metric compatible connection\n",
            "-0.18386036781947723\n",
            "-0.18389611899372452\n",
            "Check time derivatives of geodesics\n",
            "True\n",
            "True\n",
            "CHECK Geodesic Equation with analytic differentiation\n",
            "[[ 2.22044605e-15  1.33226763e-15 -3.05311332e-16  3.10862447e-15\n",
            "  -1.99840144e-15]\n",
            " [-2.66453526e-15 -2.22044605e-15 -5.55111512e-16 -3.55271368e-15\n",
            "   2.22044605e-15]\n",
            " [-4.44089210e-16 -4.44089210e-16  3.33066907e-16 -1.99840144e-15\n",
            "   1.27675648e-15]\n",
            " [ 2.22044605e-15  0.00000000e+00 -1.22124533e-15  8.88178420e-16\n",
            "  -1.33226763e-15]\n",
            " [ 2.66453526e-15  2.10942375e-15 -1.11022302e-16  4.88498131e-15\n",
            "  -3.10862447e-15]]\n",
            "CHECK TRANSPORT EQUATION with numerical differentiation\n",
            "[[ 2.27632289e-06 -2.59121290e-06 -5.40727136e-08  2.15351174e-06\n",
            "  -2.27413650e-06]\n",
            " [ 8.60518035e-08  2.79094431e-06 -4.95865637e-07  2.13440958e-06\n",
            "  -3.48185664e-07]\n",
            " [-7.90778310e-07  1.21409607e-06  2.42879606e-07 -6.42812042e-08\n",
            "   4.99570600e-07]\n",
            " [ 1.30777859e-06  7.16161548e-07 -7.52266696e-07  3.52945465e-06\n",
            "  -1.41192518e-06]\n",
            " [ 4.69905074e-07 -3.49123126e-06  2.81844059e-07 -6.76595078e-07\n",
            "  -3.35033055e-07]]\n"
          ]
        }
      ]
    },
    {
      "cell_type": "code",
      "source": [
        "def check_time_d():\n",
        "  t = 30.\n",
        "  n_list = [4, 10, 50, 100]\n",
        "  # n_list = [2, 3]\n",
        "  for n in n_list:\n",
        "    alp = .6\n",
        "    k = 3\n",
        "    soa = SOAlpha(n, k, alp)\n",
        "\n",
        "    x = soa.rand_point()\n",
        "    v = soa.rand_vec(x)\n",
        "    v = v/np.sqrt(soa.inner(x, v, v))\n",
        "    va = soa.rand_vec(x)\n",
        "    t0 = perf_counter()\n",
        "    soa.parallel(x, v, va, t)\n",
        "    t1 = perf_counter()\n",
        "    print(\"n=%d time=%f(s)\" % (n, t1-t0))\n",
        "check_time_d()"
      ],
      "metadata": {
        "colab": {
          "base_uri": "https://localhost:8080/"
        },
        "id": "KFB2L3McW1dH",
        "outputId": "ab00930e-4944-497a-8c03-8911ebab6f59"
      },
      "execution_count": 9,
      "outputs": [
        {
          "output_type": "stream",
          "name": "stdout",
          "text": [
            "n=4 time=0.023996(s)\n",
            "n=10 time=0.016216(s)\n",
            "n=50 time=0.037980(s)\n",
            "n=100 time=0.185816(s)\n"
          ]
        }
      ]
    },
    {
      "cell_type": "markdown",
      "source": [
        "# TEST ISOMETRY\n",
        "\n",
        "We show the inner product metric is preserved to around $10^{-12}$ accuracy up to $t=15$. THis will take a while to run."
      ],
      "metadata": {
        "id": "nSiv0b7cZn2R"
      }
    },
    {
      "cell_type": "code",
      "source": [
        "import matplotlib.pyplot as plt\n",
        "import numpy.linalg as la\n",
        "\n",
        "np.random.seed(0)\n",
        "\n",
        "alp = .6\n",
        "\n",
        "n = 50\n",
        "k = 10\n",
        "soa = SOAlpha(n, k, alp)\n",
        "\n",
        "x = np.eye(soa.shape[1])\n",
        "\n",
        "n_samples = 20\n",
        "\n",
        "all_smpl = []\n",
        "\n",
        "def normalize(a, x):\n",
        "    return a / np.sqrt(soa.inner(x, a, a))\n",
        "\n",
        "for _ in range(n_samples):\n",
        "    spl = soa.rand_vec(x)\n",
        "    ft = np.random.choice(3*n_samples, (), replace=True)\n",
        "\n",
        "    all_smpl.append(ft*normalize(spl, x))\n",
        "\n",
        "all_smpl = np.array(all_smpl)\n",
        "\n",
        "\n",
        "def cal_cov(gm, smpls):\n",
        "    mat = np.zeros((n_samples,  n_samples))\n",
        "    for i in range(n_samples):\n",
        "        for j in range(i+1):\n",
        "            mat[i, j] = soa.inner(gm, smpls[i, :, :], smpls[j, :, :])\n",
        "            if i != j:\n",
        "                mat[j, i] = mat[i, j]\n",
        "    return mat\n",
        "\n",
        "cov_0 = cal_cov(x, all_smpl)\n",
        "\n",
        "v = soa.rand_vec(x)\n",
        "v = v/np.sqrt(soa.inner(x, v, v))\n",
        "\n",
        "cov_diff = []\n",
        "# t_grid = [0.5, 1., 2., 5., 10., 15.]\n",
        "# t_grid = [0.5, 1.]\n",
        "t_grid = [0.1, .3, .5, .7, 1.2, 1.5, 1.7, 2.1, 3., 15.]\n",
        "for t in t_grid:\n",
        "    transported = []\n",
        "    for i in range(n_samples):\n",
        "        transported.append(soa.parallel(x, v, all_smpl[i, :, :], t))\n",
        "\n",
        "    transported = np.array(transported)\n",
        "    gm = soa.exp(x, t*v)\n",
        "    cov_t = cal_cov(gm, transported)\n",
        "    # print(cz(cov_t- cov_0))\n",
        "    cov_diff.append((t, cov_t))\n",
        "\n",
        "plt.plot(t_grid, [np.log10(cz(cov_diff[i][1] - cov_0)) for i in range(len(cov_diff))])\n",
        "plt.ylim(-15, 0)\n",
        "plt.xlabel(\"t(seconds)\")\n",
        "plt.ylabel(\"max log10 of differences\")\n",
        "plt.title(\"Max. abs. diff. of inner product matrices for SO(%d) with k=%d\" % (n, k))\n",
        "plt.savefig(\"cov_diff_flag.png\")\n",
        "plt.show()\n",
        "display(np.concatenate([np.array(t_grid)[:, None], np.array([np.log10(cz(cov_diff[i][1] - cov_0)) for i in range(len(cov_diff))])[:, None]], axis=1))"
      ],
      "metadata": {
        "colab": {
          "base_uri": "https://localhost:8080/",
          "height": 655
        },
        "id": "rWFrsYPWWt_u",
        "outputId": "34817f9d-6ba6-4058-9ca0-21cbcec958d8"
      },
      "execution_count": 13,
      "outputs": [
        {
          "output_type": "display_data",
          "data": {
            "text/plain": [
              "<Figure size 640x480 with 1 Axes>"
            ],
            "image/png": "[encoded data removed]"
          },
          "metadata": {}
        },
        {
          "output_type": "display_data",
          "data": {
            "text/plain": [
              "array([[  0.1       , -12.34222982],\n",
              "       [  0.3       , -12.34222982],\n",
              "       [  0.5       , -12.34222982],\n",
              "       [  0.7       , -12.34222982],\n",
              "       [  1.2       , -12.34222982],\n",
              "       [  1.5       , -12.34222982],\n",
              "       [  1.7       , -12.34222982],\n",
              "       [  2.1       , -12.34222982],\n",
              "       [  3.        , -12.34222982],\n",
              "       [ 15.        , -12.34222982]])"
            ]
          },
          "metadata": {}
        }
      ]
    },
    {
      "cell_type": "code",
      "source": [
        "from psutil import *\n",
        "# This code will return the number of CPU\n",
        "print(\"Number of CPU: \", cpu_count())\n",
        "# This code will return the CPU info\n",
        "!cat /proc/cpuinfo"
      ],
      "metadata": {
        "colab": {
          "base_uri": "https://localhost:8080/"
        },
        "id": "d9VI4QpwbE-B",
        "outputId": "11f760e4-ad50-4832-dbb5-b54652994e7a"
      },
      "execution_count": 14,
      "outputs": [
        {
          "output_type": "stream",
          "name": "stdout",
          "text": [
            "Number of CPU:  2\n",
            "processor\t: 0\n",
            "vendor_id\t: GenuineIntel\n",
            "cpu family\t: 6\n",
            "model\t\t: 79\n",
            "model name\t: Intel(R) Xeon(R) CPU @ 2.20GHz\n",
            "stepping\t: 0\n",
            "microcode\t: 0xffffffff\n",
            "cpu MHz\t\t: 2200.170\n",
            "cache size\t: 56320 KB\n",
            "physical id\t: 0\n",
            "siblings\t: 2\n",
            "core id\t\t: 0\n",
            "cpu cores\t: 1\n",
            "apicid\t\t: 0\n",
            "initial apicid\t: 0\n",
            "fpu\t\t: yes\n",
            "fpu_exception\t: yes\n",
            "cpuid level\t: 13\n",
            "wp\t\t: yes\n",
            "flags\t\t: fpu vme de pse tsc msr pae mce cx8 apic sep mtrr pge mca cmov pat pse36 clflush mmx fxsr sse sse2 ss ht syscall nx pdpe1gb rdtscp lm constant_tsc rep_good nopl xtopology nonstop_tsc cpuid tsc_known_freq pni pclmulqdq ssse3 fma cx16 pcid sse4_1 sse4_2 x2apic movbe popcnt aes xsave avx f16c rdrand hypervisor lahf_lm abm 3dnowprefetch invpcid_single ssbd ibrs ibpb stibp fsgsbase tsc_adjust bmi1 hle avx2 smep bmi2 erms invpcid rtm rdseed adx smap xsaveopt arat md_clear arch_capabilities\n",
            "bugs\t\t: cpu_meltdown spectre_v1 spectre_v2 spec_store_bypass l1tf mds swapgs taa mmio_stale_data retbleed bhi\n",
            "bogomips\t: 4400.34\n",
            "clflush size\t: 64\n",
            "cache_alignment\t: 64\n",
            "address sizes\t: 46 bits physical, 48 bits virtual\n",
            "power management:\n",
            "\n",
            "processor\t: 1\n",
            "vendor_id\t: GenuineIntel\n",
            "cpu family\t: 6\n",
            "model\t\t: 79\n",
            "model name\t: Intel(R) Xeon(R) CPU @ 2.20GHz\n",
            "stepping\t: 0\n",
            "microcode\t: 0xffffffff\n",
            "cpu MHz\t\t: 2200.170\n",
            "cache size\t: 56320 KB\n",
            "physical id\t: 0\n",
            "siblings\t: 2\n",
            "core id\t\t: 0\n",
            "cpu cores\t: 1\n",
            "apicid\t\t: 1\n",
            "initial apicid\t: 1\n",
            "fpu\t\t: yes\n",
            "fpu_exception\t: yes\n",
            "cpuid level\t: 13\n",
            "wp\t\t: yes\n",
            "flags\t\t: fpu vme de pse tsc msr pae mce cx8 apic sep mtrr pge mca cmov pat pse36 clflush mmx fxsr sse sse2 ss ht syscall nx pdpe1gb rdtscp lm constant_tsc rep_good nopl xtopology nonstop_tsc cpuid tsc_known_freq pni pclmulqdq ssse3 fma cx16 pcid sse4_1 sse4_2 x2apic movbe popcnt aes xsave avx f16c rdrand hypervisor lahf_lm abm 3dnowprefetch invpcid_single ssbd ibrs ibpb stibp fsgsbase tsc_adjust bmi1 hle avx2 smep bmi2 erms invpcid rtm rdseed adx smap xsaveopt arat md_clear arch_capabilities\n",
            "bugs\t\t: cpu_meltdown spectre_v1 spectre_v2 spec_store_bypass l1tf mds swapgs taa mmio_stale_data retbleed bhi\n",
            "bogomips\t: 4400.34\n",
            "clflush size\t: 64\n",
            "cache_alignment\t: 64\n",
            "address sizes\t: 46 bits physical, 48 bits virtual\n",
            "power management:\n",
            "\n"
          ]
        }
      ]
    },
    {
      "cell_type": "code",
      "source": [
        "virtual_memory()"
      ],
      "metadata": {
        "colab": {
          "base_uri": "https://localhost:8080/"
        },
        "id": "IHX_fzgibHOo",
        "outputId": "1e7f35e0-fdd3-4cb8-9a12-0fc9d8885290"
      },
      "execution_count": 15,
      "outputs": [
        {
          "output_type": "execute_result",
          "data": {
            "text/plain": [
              "svmem(total=13609431040, available=12565209088, percent=7.7, used=710356992, free=10024099840, active=802373632, inactive=2491342848, buffers=395239424, cached=2479734784, shared=1650688, slab=214016000)"
            ]
          },
          "metadata": {},
          "execution_count": 15
        }
      ]
    }
  ]
}