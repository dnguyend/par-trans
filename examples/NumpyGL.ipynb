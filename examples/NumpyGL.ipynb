{
  "nbformat": 4,
  "nbformat_minor": 0,
  "metadata": {
    "colab": {
      "provenance": [],
      "authorship_tag": "ABX9TyOlFOzfpjKWRKkG89nOx1uk",
      "include_colab_link": true
    },
    "kernelspec": {
      "name": "python3",
      "display_name": "Python 3"
    },
    "language_info": {
      "name": "python"
    }
  },
  "cells": [
    {
      "cell_type": "markdown",
      "metadata": {
        "id": "view-in-github",
        "colab_type": "text"
      },
      "source": [
        "<a href=\"https://colab.research.google.com/github/dnguyend/par-trans/blob/main/examples/NumpyGL.ipynb\" target=\"_parent\"><img src=\"https://colab.research.google.com/assets/colab-badge.svg\" alt=\"Open In Colab\"/></a>"
      ]
    },
    {
      "cell_type": "markdown",
      "source": [
        "# Workbook to test General Linear group parallel transport using numpy\n",
        "\n",
        "This should be run under CPU run time.\n"
      ],
      "metadata": {
        "id": "Ek2uL_7uTNUl"
      }
    },
    {
      "cell_type": "code",
      "execution_count": 1,
      "metadata": {
        "id": "RT5eZsPbFP2V",
        "outputId": "1aa2fa22-55c6-40c3-ce0b-095e8359bb7f",
        "colab": {
          "base_uri": "https://localhost:8080/"
        }
      },
      "outputs": [
        {
          "output_type": "stream",
          "name": "stdout",
          "text": [
            "Collecting git+https://github.com/dnguyend/par-trans\n",
            "  Cloning https://github.com/dnguyend/par-trans to /tmp/pip-req-build-qnfz9wtt\n",
            "  Running command git clone --filter=blob:none --quiet https://github.com/dnguyend/par-trans /tmp/pip-req-build-qnfz9wtt\n",
            "  Resolved https://github.com/dnguyend/par-trans to commit 8a7b9ef3c88d929d40c9a9f990cf257132243f46\n",
            "  Installing build dependencies ... \u001b[?25l\u001b[?25hdone\n",
            "  Getting requirements to build wheel ... \u001b[?25l\u001b[?25hdone\n",
            "  Preparing metadata (pyproject.toml) ... \u001b[?25l\u001b[?25hdone\n",
            "Requirement already satisfied: jax in /usr/local/lib/python3.10/dist-packages (from par-trans==0.1.dev17+g8a7b9ef) (0.4.26)\n",
            "Requirement already satisfied: jaxlib in /usr/local/lib/python3.10/dist-packages (from par-trans==0.1.dev17+g8a7b9ef) (0.4.26+cuda12.cudnn89)\n",
            "Requirement already satisfied: numpy in /usr/local/lib/python3.10/dist-packages (from par-trans==0.1.dev17+g8a7b9ef) (1.26.4)\n",
            "Requirement already satisfied: scipy in /usr/local/lib/python3.10/dist-packages (from par-trans==0.1.dev17+g8a7b9ef) (1.13.1)\n",
            "Requirement already satisfied: ml-dtypes>=0.2.0 in /usr/local/lib/python3.10/dist-packages (from jax->par-trans==0.1.dev17+g8a7b9ef) (0.4.0)\n",
            "Requirement already satisfied: opt-einsum in /usr/local/lib/python3.10/dist-packages (from jax->par-trans==0.1.dev17+g8a7b9ef) (3.3.0)\n",
            "Building wheels for collected packages: par-trans\n",
            "  Building wheel for par-trans (pyproject.toml) ... \u001b[?25l\u001b[?25hdone\n",
            "  Created wheel for par-trans: filename=par_trans-0.1.dev17+g8a7b9ef-py3-none-any.whl size=32089 sha256=3c90a8618be84d42cd26df938681f9334500da20ef78e9b2d371c8ffb0b29d9a\n",
            "  Stored in directory: /tmp/pip-ephem-wheel-cache-58er0ojr/wheels/43/54/27/33e127e64ed29c538e4b5356c5a5801c527ecfa659afe8ec3c\n",
            "Successfully built par-trans\n",
            "Installing collected packages: par-trans\n",
            "Successfully installed par-trans-0.1.dev17+g8a7b9ef\n"
          ]
        }
      ],
      "source": [
        "!pip install git+https://github.com/dnguyend/par-trans"
      ]
    },
    {
      "cell_type": "markdown",
      "source": [
        "May take a bit to download - after that you will see \"Collecting git+...\""
      ],
      "metadata": {
        "id": "rLNQTeqUHzjc"
      }
    },
    {
      "cell_type": "markdown",
      "source": [
        "Import the libraries"
      ],
      "metadata": {
        "id": "4SxdApn3JFcP"
      }
    },
    {
      "cell_type": "code",
      "source": [
        "from time import perf_counter\n",
        "\n",
        "import numpy as np\n",
        "import numpy.linalg as la\n",
        "from numpy.random import randn\n",
        "\n",
        "from par_trans.manifolds import GLpBeta\n",
        "from par_trans.utils.utils import (sym, asym, lie, cz)\n",
        "\n",
        "from scipy.linalg import expm\n",
        "from scipy.sparse.linalg import expm_multiply, LinearOperator"
      ],
      "metadata": {
        "id": "1I65ayHnHrHX"
      },
      "execution_count": 2,
      "outputs": []
    },
    {
      "cell_type": "markdown",
      "source": [
        "Run several tests:\n",
        "* check the metric compatible condition of the Levi-Civita connection. For 2 tangent vectors $v, va$, $X: z\\mapsto glp.proj(z, va)$ is a vector field. We compare $D_v\\langle X, X\\rangle$ and $2\\langle X, D_vX + \\Gamma(v, X)\\rangle$\n",
        "* Check Geodesic and transport equations.\n",
        "* The function glp.exp gives the Riemannian exponential map, while $glp.dexp(x, v, t,ddexp=True) $ computes $\\gamma(t), \\dot{\\gamma}(t)$ and $\\ddot{\\gamma}(t)$ where $\\gamma(t)$ is the geodesic starting at $x$ with initial velocity $\\dot{\\gamma}(0) = v$. If $ddexp=False$, only $\\gamma$ and $\\dot{\\gamma}$ are returned.\n",
        "\n",
        "We verify dexp indeed returns the time derivatives, and show the parallel transport equation is satisfied.\n"
      ],
      "metadata": {
        "id": "k2xlnWv8LY5E"
      }
    },
    {
      "cell_type": "code",
      "source": [
        "\n",
        "def test():\n",
        "    np.random.seed(1)\n",
        "    n = 5\n",
        "    beta = 1.2\n",
        "    glp = GLpBeta(n, beta)\n",
        "\n",
        "    x = glp.rand_point()\n",
        "    v = glp.rand_vec(x)\n",
        "    va = glp.rand_vec(x)\n",
        "    vb = glp.rand_vec(x)\n",
        "\n",
        "    t = .8\n",
        "\n",
        "    dlt = 1e-6\n",
        "\n",
        "    print(\"Check Christoffel gamma produces a metric compatible connection\")\n",
        "    print((glp.inner(x+dlt*v, va, va) - glp.inner(x, va, va))/dlt)\n",
        "    print(2*glp.inner(x, va, glp.christoffel_gamma(x, v, va)))\n",
        "\n",
        "    print(\"Check time derivatives of geodesics\")\n",
        "    print(cz((glp.exp(x, (t+dlt)*v) - glp.exp(x, t*v))/dlt\n",
        "             - glp.dexp(x, v, t, ddexp=False)[1]))\n",
        "\n",
        "    print(cz((glp.dexp(x, v, t+dlt)[1] - glp.dexp(x, v, t)[1])/dlt\n",
        "             - glp.dexp(x, v, t, ddexp=True)[2]))\n",
        "\n",
        "    gmms = glp.dexp(x, v, t, ddexp=True)\n",
        "    print(\"CHECK Geodesic Equation with analytic differentiation\")\n",
        "    print(cz(gmms[2] + glp.christoffel_gamma(gmms[0], gmms[1], gmms[1])))\n",
        "\n",
        "    def Par(b, a):\n",
        "        return 0.5*(lie(b, a) + (1+glp.beta)*(lie(asym(a), b) - lie(asym(b), a)))\n",
        "\n",
        "    def Par_T(b, a):\n",
        "        return 0.5*(lie(b, a.T) + (1+glp.beta)*(lie(-asym(a), b) - asym(lie(b, a.T))))\n",
        "\n",
        "    print(\"Check Par and Par_T, the transport operator and adjoint\")\n",
        "    print(np.sum(Par(va, v)*vb))\n",
        "    print(np.sum(Par_T(vb, v)*va))\n",
        "\n",
        "    def sc(a, ft):\n",
        "        return sym(a) + ft*asym(a)\n",
        "\n",
        "    def par_bal(b, a):\n",
        "        bnew = sc(b, 1/np.sqrt(glp.beta))\n",
        "        return sc(0.5*(lie(bnew, a) + (1+glp.beta)*(lie(asym(a), bnew) - lie(asym(bnew), a))),\n",
        "                  np.sqrt(glp.beta))\n",
        "\n",
        "\n",
        "    def par_bal(b, a):\n",
        "        bnew = sc(b, 1/np.sqrt(glp.beta))\n",
        "        return sc(0.5*(lie(bnew, a) + (1+glp.beta)*(lie(asym(a), bnew) - lie(asym(bnew), a))),\n",
        "                  np.sqrt(glp.beta))\n",
        "\n",
        "    print(\"check scaling produces an antisymmetric operator\")\n",
        "    print(np.sum(sc(Par(sc(vb, 1/np.sqrt(glp.beta)), v), np.sqrt(glp.beta))*va))\n",
        "    print(np.sum(sc(Par(sc(va, 1/np.sqrt(glp.beta)), v), np.sqrt(glp.beta))*vb))\n",
        "\n",
        "    Delta = glp.parallel(x, v, va, t)\n",
        "\n",
        "    print(\"CHECK TRANSPORT EQUATION with numerical differentiation\")\n",
        "    print((glp.parallel(x, v, va, t+dlt) - Delta)/dlt \\\n",
        "          + glp.christoffel_gamma(gmms[0], gmms[1], Delta))\n",
        "\n",
        "\n",
        "test()"
      ],
      "metadata": {
        "colab": {
          "base_uri": "https://localhost:8080/"
        },
        "id": "yYPI8l-dIFmB",
        "outputId": "7c4210c1-ee23-4bab-dfac-ce3a20242ed1"
      },
      "execution_count": 3,
      "outputs": [
        {
          "output_type": "stream",
          "name": "stdout",
          "text": [
            "Check Christoffel gamma produces a metric compatible connection\n",
            "31528.97252675757\n",
            "31528.416129844147\n",
            "Check time derivatives of geodesics\n",
            "6.178894034203353e-06\n",
            "1.993369299047032e-05\n",
            "CHECK Geodesic Equation with analytic differentiation\n",
            "1.846037989139404e-09\n",
            "Check Par and Par_T, the transport operator and adjoint\n",
            "-4.7860537387110575\n",
            "-4.786053738711059\n",
            "check scaling produces an antisymmetric operator\n",
            "4.728565434240489\n",
            "-4.728565434240487\n",
            "CHECK TRANSPORT EQUATION with numerical differentiation\n",
            "[[ 2.12348637e-04  6.27005402e-05  7.53241935e-05  2.83791696e-04\n",
            "  -6.04082599e-04]\n",
            " [-2.36293367e-04  3.92538416e-04  5.62731723e-05  7.76836389e-04\n",
            "  -4.45106179e-04]\n",
            " [ 2.28669313e-04 -2.74781763e-04 -5.86341997e-09 -4.36384965e-04\n",
            "   8.09254491e-05]\n",
            " [-4.47982210e-05  9.55957016e-05  3.80797314e-05  2.59612941e-04\n",
            "  -2.24384311e-04]\n",
            " [-1.98115990e-04  4.46743373e-04  3.70389387e-05  7.91797850e-04\n",
            "  -4.69453388e-04]]\n"
          ]
        }
      ]
    },
    {
      "cell_type": "code",
      "source": [
        "def check_time_d():\n",
        "  t = 30.\n",
        "  n_list = [2, 3, 4, 10, 20, 30]\n",
        "  # n_list = [2, 3]\n",
        "  for n in n_list:\n",
        "    beta = .6\n",
        "    glp = GLpBeta(n, beta)\n",
        "\n",
        "    x = glp.rand_point()\n",
        "    v = glp.rand_vec(x)\n",
        "    v = v/np.sqrt(glp.inner(x, v, v))\n",
        "    va = glp.rand_vec(x)\n",
        "    t0 = perf_counter()\n",
        "    glp.parallel(x, v, va, t)\n",
        "    t1 = perf_counter()\n",
        "    print(\"n=%d time=%f(s)\" % (n, t1-t0))\n",
        "check_time_d()"
      ],
      "metadata": {
        "colab": {
          "base_uri": "https://localhost:8080/"
        },
        "id": "_RDQFxugpeGw",
        "outputId": "6a06ad3b-5a76-4b75-ed1d-c9d0bf163a00"
      },
      "execution_count": 14,
      "outputs": [
        {
          "output_type": "stream",
          "name": "stdout",
          "text": [
            "n=2 time=0.026921(s)\n",
            "n=3 time=0.047946(s)\n",
            "n=4 time=0.054385(s)\n",
            "n=10 time=0.033340(s)\n",
            "n=20 time=0.136079(s)\n",
            "n=30 time=0.198051(s)\n"
          ]
        }
      ]
    },
    {
      "cell_type": "markdown",
      "source": [
        "# TEST ISOMETRY\n",
        "\n",
        "We show the inner product metric is preserved to around $10^{-12}$ for small $t$ but deteriorate when $t$ is higher. This is in contrast to compact manifolds such as $SO(n)$, Stiefel manifolds, flag manifold."
      ],
      "metadata": {
        "id": "OJ6H-l_xuNuq"
      }
    },
    {
      "cell_type": "code",
      "source": [
        "import matplotlib.pyplot as plt\n",
        "import numpy.linalg as la\n",
        "\n",
        "np.random.seed(0)\n",
        "\n",
        "beta = .5\n",
        "n = 5\n",
        "glp = GLpBeta(n, beta)\n",
        "\n",
        "x = np.eye(glp.shape[1])\n",
        "\n",
        "n_samples = 20\n",
        "\n",
        "all_smpl = []\n",
        "\n",
        "def normalize(a, x):\n",
        "    return a / np.sqrt(glp.inner(x, a, a))\n",
        "\n",
        "for _ in range(n_samples):\n",
        "    spl = glp.rand_vec(x)\n",
        "    ft = np.random.choice(3*n_samples, (), replace=True)\n",
        "\n",
        "    all_smpl.append(ft*normalize(spl, x))\n",
        "\n",
        "all_smpl = np.array(all_smpl)\n",
        "\n",
        "\n",
        "def cal_cov(gm, smpls):\n",
        "    mat = np.zeros((n_samples,  n_samples))\n",
        "    for i in range(n_samples):\n",
        "        for j in range(i+1):\n",
        "            mat[i, j] = glp.inner(gm, smpls[i, :, :], smpls[j, :, :])\n",
        "            if i != j:\n",
        "                mat[j, i] = mat[i, j]\n",
        "    return mat\n",
        "\n",
        "cov_0 = cal_cov(x, all_smpl)\n",
        "\n",
        "v = glp.rand_vec(x)\n",
        "v = v/np.sqrt(glp.inner(x, v, v))\n",
        "\n",
        "cov_diff = []\n",
        "# t_grid = [0.5, 1., 2., 5., 10., 15.]\n",
        "# t_grid = [0.5, 1.]\n",
        "t_grid = [0.1, .3, .5, .7, 1.2, 1.5, 1.7, 2.1, 3., 15.]\n",
        "for t in t_grid:\n",
        "    transported = []\n",
        "    for i in range(n_samples):\n",
        "        transported.append(glp.parallel(x, v, all_smpl[i, :, :], t))\n",
        "\n",
        "    transported = np.array(transported)\n",
        "    gm = glp.exp(x, t*v)\n",
        "    cov_t = cal_cov(gm, transported)\n",
        "    # print(cz(cov_t- cov_0))\n",
        "    cov_diff.append((t, cov_t))\n",
        "\n",
        "plt.plot(t_grid, [np.log10(cz(cov_diff[i][1] - cov_0)) for i in range(len(cov_diff))])\n",
        "plt.ylim(-15, 0)\n",
        "plt.xlabel(\"t(seconds)\")\n",
        "plt.ylabel(\"max log10 of differences\")\n",
        "plt.title(\"Max. abs. diff. of inner product matrices for GL^+(%d)\" % n)\n",
        "plt.savefig(\"cov_diff_flag.png\")\n",
        "plt.show()\n",
        "display(np.concatenate([np.array(t_grid)[:, None], np.array([np.log10(cz(cov_diff[i][1] - cov_0)) for i in range(len(cov_diff))])[:, None]], axis=1))"
      ],
      "metadata": {
        "colab": {
          "base_uri": "https://localhost:8080/",
          "height": 655
        },
        "id": "GeQtWfnDuTT6",
        "outputId": "45953b78-0a0e-4542-8b78-30d360ad6e33"
      },
      "execution_count": 22,
      "outputs": [
        {
          "output_type": "display_data",
          "data": {
            "text/plain": [
              "<Figure size 640x480 with 1 Axes>"
            ],
            "image/png": "[encoded data removed]"
          },
          "metadata": {}
        },
        {
          "output_type": "display_data",
          "data": {
            "text/plain": [
              "array([[  0.1       , -12.34222982],\n",
              "       [  0.3       , -12.34222982],\n",
              "       [  0.5       , -12.16613856],\n",
              "       [  0.7       , -12.04119983],\n",
              "       [  1.2       , -11.86510857],\n",
              "       [  1.5       , -11.74016983],\n",
              "       [  1.7       , -11.86510857],\n",
              "       [  2.1       , -11.74016983],\n",
              "       [  3.        , -11.44597926],\n",
              "       [ 15.        ,  -5.82902971]])"
            ]
          },
          "metadata": {}
        }
      ]
    },
    {
      "cell_type": "code",
      "source": [
        "from psutil import *\n",
        "# This code will return the number of CPU\n",
        "print(\"Number of CPU: \", cpu_count())\n",
        "# This code will return the CPU info\n",
        "!cat /proc/cpuinfo"
      ],
      "metadata": {
        "colab": {
          "base_uri": "https://localhost:8080/"
        },
        "id": "xtLpaXFmJbcm",
        "outputId": "ac10784e-f91c-4d0f-eb02-c87c4b226d1b"
      },
      "execution_count": null,
      "outputs": [
        {
          "output_type": "stream",
          "name": "stdout",
          "text": [
            "Number of CPU:  2\n",
            "processor\t: 0\n",
            "vendor_id\t: GenuineIntel\n",
            "cpu family\t: 6\n",
            "model\t\t: 79\n",
            "model name\t: Intel(R) Xeon(R) CPU @ 2.20GHz\n",
            "stepping\t: 0\n",
            "microcode\t: 0xffffffff\n",
            "cpu MHz\t\t: 2199.998\n",
            "cache size\t: 56320 KB\n",
            "physical id\t: 0\n",
            "siblings\t: 2\n",
            "core id\t\t: 0\n",
            "cpu cores\t: 1\n",
            "apicid\t\t: 0\n",
            "initial apicid\t: 0\n",
            "fpu\t\t: yes\n",
            "fpu_exception\t: yes\n",
            "cpuid level\t: 13\n",
            "wp\t\t: yes\n",
            "flags\t\t: fpu vme de pse tsc msr pae mce cx8 apic sep mtrr pge mca cmov pat pse36 clflush mmx fxsr sse sse2 ss ht syscall nx pdpe1gb rdtscp lm constant_tsc rep_good nopl xtopology nonstop_tsc cpuid tsc_known_freq pni pclmulqdq ssse3 fma cx16 pcid sse4_1 sse4_2 x2apic movbe popcnt aes xsave avx f16c rdrand hypervisor lahf_lm abm 3dnowprefetch invpcid_single ssbd ibrs ibpb stibp fsgsbase tsc_adjust bmi1 hle avx2 smep bmi2 erms invpcid rtm rdseed adx smap xsaveopt arat md_clear arch_capabilities\n",
            "bugs\t\t: cpu_meltdown spectre_v1 spectre_v2 spec_store_bypass l1tf mds swapgs taa mmio_stale_data retbleed bhi\n",
            "bogomips\t: 4399.99\n",
            "clflush size\t: 64\n",
            "cache_alignment\t: 64\n",
            "address sizes\t: 46 bits physical, 48 bits virtual\n",
            "power management:\n",
            "\n",
            "processor\t: 1\n",
            "vendor_id\t: GenuineIntel\n",
            "cpu family\t: 6\n",
            "model\t\t: 79\n",
            "model name\t: Intel(R) Xeon(R) CPU @ 2.20GHz\n",
            "stepping\t: 0\n",
            "microcode\t: 0xffffffff\n",
            "cpu MHz\t\t: 2199.998\n",
            "cache size\t: 56320 KB\n",
            "physical id\t: 0\n",
            "siblings\t: 2\n",
            "core id\t\t: 0\n",
            "cpu cores\t: 1\n",
            "apicid\t\t: 1\n",
            "initial apicid\t: 1\n",
            "fpu\t\t: yes\n",
            "fpu_exception\t: yes\n",
            "cpuid level\t: 13\n",
            "wp\t\t: yes\n",
            "flags\t\t: fpu vme de pse tsc msr pae mce cx8 apic sep mtrr pge mca cmov pat pse36 clflush mmx fxsr sse sse2 ss ht syscall nx pdpe1gb rdtscp lm constant_tsc rep_good nopl xtopology nonstop_tsc cpuid tsc_known_freq pni pclmulqdq ssse3 fma cx16 pcid sse4_1 sse4_2 x2apic movbe popcnt aes xsave avx f16c rdrand hypervisor lahf_lm abm 3dnowprefetch invpcid_single ssbd ibrs ibpb stibp fsgsbase tsc_adjust bmi1 hle avx2 smep bmi2 erms invpcid rtm rdseed adx smap xsaveopt arat md_clear arch_capabilities\n",
            "bugs\t\t: cpu_meltdown spectre_v1 spectre_v2 spec_store_bypass l1tf mds swapgs taa mmio_stale_data retbleed bhi\n",
            "bogomips\t: 4399.99\n",
            "clflush size\t: 64\n",
            "cache_alignment\t: 64\n",
            "address sizes\t: 46 bits physical, 48 bits virtual\n",
            "power management:\n",
            "\n"
          ]
        }
      ]
    },
    {
      "cell_type": "code",
      "source": [
        "virtual_memory()"
      ],
      "metadata": {
        "colab": {
          "base_uri": "https://localhost:8080/"
        },
        "id": "wjqI9MKAJkxd",
        "outputId": "d68a8c7d-ab73-4458-b888-b7fa3fc51d56"
      },
      "execution_count": null,
      "outputs": [
        {
          "output_type": "execute_result",
          "data": {
            "text/plain": [
              "svmem(total=13609422848, available=12406104064, percent=8.8, used=868282368, free=8795402240, active=773169152, inactive=3752456192, buffers=398286848, cached=3547451392, shared=1646592, slab=221720576)"
            ]
          },
          "metadata": {},
          "execution_count": 11
        }
      ]
    }
  ]
}